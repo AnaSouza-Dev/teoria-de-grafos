{
 "cells": [
  {
   "cell_type": "markdown",
   "id": "0626863d",
   "metadata": {},
   "source": [
    "Bibliotecas"
   ]
  },
  {
   "cell_type": "code",
   "execution_count": 1,
   "id": "c846c834",
   "metadata": {},
   "outputs": [],
   "source": [
    "from abc import ABC, abstractmethod"
   ]
  },
  {
   "cell_type": "markdown",
   "id": "5d7b2c5e",
   "metadata": {},
   "source": [
    "interface Grafo"
   ]
  },
  {
   "cell_type": "code",
   "execution_count": 6,
   "id": "1e946236",
   "metadata": {},
   "outputs": [],
   "source": [
    "class Grafo(ABC):\n",
    "    @abstractmethod\n",
    "    def numero_de_vertices(self):\n",
    "        pass\n",
    "\n",
    "    @abstractmethod\n",
    "    def numero_de_arestas(self):\n",
    "        pass\n",
    "\n",
    "    @abstractmethod\n",
    "    def sequencia_de_graus(self):\n",
    "        pass\n",
    "\n",
    "    @abstractmethod\n",
    "    def adicionar_aresta(self, u, v):\n",
    "        pass\n",
    "\n",
    "    @abstractmethod\n",
    "    def remover_aresta(self, u, v):\n",
    "        pass\n",
    "\n",
    "    @abstractmethod\n",
    "    def imprimir(self):\n",
    "        pass\n"
   ]
  },
  {
   "cell_type": "markdown",
   "id": "325d1975",
   "metadata": {},
   "source": [
    "Classe GrafoDenso Matriz de Adjacência"
   ]
  },
  {
   "cell_type": "code",
   "execution_count": 11,
   "id": "83e2425e",
   "metadata": {},
   "outputs": [],
   "source": [
    "class GrafoDenso(Grafo):\n",
    "    def __init__(self, vertices):\n",
    "       \n",
    "        if isinstance(vertices, int):\n",
    "            self.rotulos = list(range(vertices))\n",
    "        else:\n",
    "            self.rotulos = list(vertices)\n",
    "\n",
    "        n = len(self.rotulos)\n",
    "        self.matriz = [[0] * n for _ in range(n)]\n",
    "\n",
    "    def numero_de_vertices(self):\n",
    "        return len(self.rotulos)\n",
    "\n",
    "    def numero_de_arestas(self):\n",
    "        count = 0\n",
    "        n = len(self.matriz)\n",
    "        for i in range(n):\n",
    "            for j in range(i + 1, n):  \n",
    "                if self.matriz[i][j] == 1:\n",
    "                    count += 1\n",
    "        return count\n",
    "\n",
    "    def sequencia_de_graus(self):\n",
    "        graus = []\n",
    "        n = len(self.matriz)\n",
    "        for i in range(n):\n",
    "            grau = sum(self.matriz[i])\n",
    "            graus.append(grau)\n",
    "        return graus\n",
    "\n",
    "    def adicionar_aresta(self, u, v):\n",
    "        i = self.rotulos.index(u)\n",
    "        j = self.rotulos.index(v)\n",
    "        self.matriz[i][j] = 1\n",
    "        self.matriz[j][i] = 1\n",
    "\n",
    "    def remover_aresta(self, u, v):\n",
    "        i = self.rotulos.index(u)\n",
    "        j = self.rotulos.index(v)\n",
    "        self.matriz[i][j] = 0\n",
    "        self.matriz[j][i] = 0\n",
    "\n",
    "    def imprimir(self):\n",
    "        print(\"Matriz de Adjacência:\")\n",
    "        print(\"   \" + \"  \".join(self.rotulos))\n",
    "        for i, rot in enumerate(self.rotulos):\n",
    "            print(rot, self.matriz[i])\n"
   ]
  },
  {
   "cell_type": "code",
   "execution_count": 13,
   "id": "5126db1b",
   "metadata": {},
   "outputs": [
    {
     "name": "stdout",
     "output_type": "stream",
     "text": [
      "\n",
      "--- Grafo Inicial ---\n",
      "Matriz de Adjacência:\n",
      "   A  B  C  D  E\n",
      "A [0, 1, 1, 0, 0]\n",
      "B [1, 0, 0, 1, 0]\n",
      "C [1, 0, 0, 1, 1]\n",
      "D [0, 1, 1, 0, 0]\n",
      "E [0, 0, 1, 0, 0]\n",
      "Número de vértices: 5\n",
      "Número de arestas: 5\n",
      "Sequência de graus: [2, 2, 3, 2, 1]\n"
     ]
    }
   ],
   "source": [
    "g = GrafoDenso([\"A\", \"B\", \"C\", \"D\", \"E\"])  # cria grafo \n",
    "\n",
    " # Adiciona arestas {(A,B), (A,C), (C,D), (C,E), (B,D)}\n",
    "g.adicionar_aresta(\"A\", \"B\")\n",
    "g.adicionar_aresta(\"A\", \"C\")\n",
    "g.adicionar_aresta(\"C\", \"D\")\n",
    "g.adicionar_aresta(\"C\", \"E\")\n",
    "g.adicionar_aresta(\"B\", \"D\")\n",
    "\n",
    "    # Imprime informações\n",
    "print(\"\\n--- Grafo Inicial ---\")\n",
    "g.imprimir()\n",
    "print(\"Número de vértices:\", g.numero_de_vertices())\n",
    "print(\"Número de arestas:\", g.numero_de_arestas())\n",
    "print(\"Sequência de graus:\", g.sequencia_de_graus())\n",
    "\n",
    "\n",
    "\n"
   ]
  },
  {
   "cell_type": "code",
   "execution_count": 14,
   "id": "ea5fb7e4",
   "metadata": {},
   "outputs": [
    {
     "name": "stdout",
     "output_type": "stream",
     "text": [
      "\n",
      "--- Após remover a aresta (A,C) ---\n",
      "Matriz de Adjacência:\n",
      "   A  B  C  D  E\n",
      "A [0, 1, 0, 0, 0]\n",
      "B [1, 0, 0, 1, 0]\n",
      "C [0, 0, 0, 1, 1]\n",
      "D [0, 1, 1, 0, 0]\n",
      "E [0, 0, 1, 0, 0]\n",
      "Número de vértices: 5\n",
      "Número de arestas: 4\n",
      "Sequência de graus: [1, 2, 2, 2, 1]\n"
     ]
    }
   ],
   "source": [
    " # Remove a aresta (A,C)\n",
    "g.remover_aresta(\"A\", \"C\")\n",
    "\n",
    " # Imprime novamente\n",
    "print(\"\\n--- Após remover a aresta (A,C) ---\")\n",
    "g.imprimir()\n",
    "print(\"Número de vértices:\", g.numero_de_vertices())\n",
    "print(\"Número de arestas:\", g.numero_de_arestas())\n",
    "print(\"Sequência de graus:\", g.sequencia_de_graus())\n"
   ]
  }
 ],
 "metadata": {
  "kernelspec": {
   "display_name": "Python 3",
   "language": "python",
   "name": "python3"
  },
  "language_info": {
   "codemirror_mode": {
    "name": "ipython",
    "version": 3
   },
   "file_extension": ".py",
   "mimetype": "text/x-python",
   "name": "python",
   "nbconvert_exporter": "python",
   "pygments_lexer": "ipython3",
   "version": "3.12.10"
  }
 },
 "nbformat": 4,
 "nbformat_minor": 5
}
